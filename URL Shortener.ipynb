{
 "cells": [
  {
   "cell_type": "code",
   "execution_count": 4,
   "id": "07ee7183",
   "metadata": {},
   "outputs": [
    {
     "name": "stdout",
     "output_type": "stream",
     "text": [
      "Enter the URL you want to shorten: https://www.tcsion.com/hub/career-creator/free-learning-courses/\n",
      "Shortened URL: https://tinyurl.com/ysrk22a8\n"
     ]
    }
   ],
   "source": [
    "import pyshorteners\n",
    "\n",
    "def shorten_url(url):\n",
    "    s = pyshorteners.Shortener()\n",
    "    short_url = s.tinyurl.short(url)\n",
    "    return short_url\n",
    "\n",
    "def main():\n",
    "    original_url = input(\"Enter the URL you want to shorten: \")\n",
    "    shortened_url = shorten_url(original_url)\n",
    "    print(f\"Shortened URL: {shortened_url}\")\n",
    "\n",
    "if __name__ == \"__main__\":\n",
    "    main()"
   ]
  },
  {
   "cell_type": "code",
   "execution_count": null,
   "id": "797b1ae3",
   "metadata": {},
   "outputs": [],
   "source": []
  }
 ],
 "metadata": {
  "kernelspec": {
   "display_name": "Python 3 (ipykernel)",
   "language": "python",
   "name": "python3"
  },
  "language_info": {
   "codemirror_mode": {
    "name": "ipython",
    "version": 3
   },
   "file_extension": ".py",
   "mimetype": "text/x-python",
   "name": "python",
   "nbconvert_exporter": "python",
   "pygments_lexer": "ipython3",
   "version": "3.10.9"
  }
 },
 "nbformat": 4,
 "nbformat_minor": 5
}
